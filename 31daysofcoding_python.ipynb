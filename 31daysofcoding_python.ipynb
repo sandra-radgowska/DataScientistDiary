{
 "cells": [
  {
   "cell_type": "markdown",
   "id": "preceding-harvest",
   "metadata": {},
   "source": [
    "## **** MARCH 2022: 31 DAYS OF CODING CHALLENGE ON DATASCIENTISTDIARY.COM ****"
   ]
  },
  {
   "cell_type": "markdown",
   "id": "bigger-binary",
   "metadata": {},
   "source": [
    "**Day 1**: Make a function **lowercase** that, given a string, returns the string, except in all lowercase letters."
   ]
  },
  {
   "cell_type": "code",
   "execution_count": 10,
   "id": "organic-maine",
   "metadata": {},
   "outputs": [],
   "source": [
    "def lowercase(string):\n",
    "    answer = string.lower()\n",
    "    return(answer)"
   ]
  },
  {
   "cell_type": "code",
   "execution_count": 11,
   "id": "smooth-beijing",
   "metadata": {},
   "outputs": [],
   "source": [
    "def lowercase2(string):\n",
    "    alphabet = 'abcdefghijklmnopqrstuvwxyzABCDEFGHIJKLMNOPQRSTUVWXYZ'\n",
    "    result = ''\n",
    "    for x in string:\n",
    "        if x not in alphabet or alphabet.index(x)<26:\n",
    "            result += x\n",
    "        else:\n",
    "            result += alphabet[alphabet.index(x)-26]\n",
    "    return result"
   ]
  },
  {
   "cell_type": "code",
   "execution_count": 12,
   "id": "satisfactory-infrared",
   "metadata": {},
   "outputs": [],
   "source": [
    "import string\n",
    "alpha_lower = string.ascii_lowercase\n",
    "alpha_upper = string.ascii_uppercase\n",
    "\n",
    "def lowercase3(word):\n",
    "    alph = {upper:lower for upper, lower in zip(alpha_upper, alpha_lower)}\n",
    "    lower_list = [alph[char] if char in alph.keys() else char for char in word]\n",
    "    \n",
    "    return ''.join(lower_list)"
   ]
  },
  {
   "cell_type": "markdown",
   "id": "random-awareness",
   "metadata": {},
   "source": [
    "**Day 2:** Make a function **switch_case** that, given a string, returns the string with uppercase letters in lowercase and vice-versa. Include punction and other non-cased characters unchanged."
   ]
  },
  {
   "cell_type": "code",
   "execution_count": 13,
   "id": "juvenile-auction",
   "metadata": {},
   "outputs": [],
   "source": [
    "def switch_case(string):\n",
    "    new_string = ''\n",
    "    for letter in string:\n",
    "        if letter.islower():\n",
    "            new_string += letter.upper()\n",
    "        else:\n",
    "            new_string += letter.lower()\n",
    "    return new_string"
   ]
  },
  {
   "cell_type": "markdown",
   "id": "radio-unemployment",
   "metadata": {},
   "source": [
    "**Day 3:** Make a function **reverse_string** that, given a string returns that string in reverse."
   ]
  },
  {
   "cell_type": "code",
   "execution_count": 14,
   "id": "minor-cream",
   "metadata": {},
   "outputs": [],
   "source": [
    "def reverse_string(string):\n",
    "    reverse = string[::-1]\n",
    "    return reverse"
   ]
  },
  {
   "cell_type": "markdown",
   "id": "governing-deviation",
   "metadata": {},
   "source": [
    "**Day 4:** Create **gerund_infinitive** function which will return the infinitive form of the input verb (e.g. doing -> to do). If the word doesn't end with \"ing\", return \"This is not a gerund!\". "
   ]
  },
  {
   "cell_type": "code",
   "execution_count": 15,
   "id": "intermediate-inclusion",
   "metadata": {},
   "outputs": [],
   "source": [
    "def gerund_infinitive(string):\n",
    "    if string[-3:] == 'ing':\n",
    "        return \"to \" + string[:-3]\n",
    "    else: \n",
    "        return \"That's not a gerund!\""
   ]
  },
  {
   "cell_type": "code",
   "execution_count": 47,
   "id": "adaptive-checkout",
   "metadata": {},
   "outputs": [
    {
     "name": "stdout",
     "output_type": "stream",
     "text": [
      "doing: to do\n",
      "trying: to try\n",
      "getting: to get\n",
      "packing: to pac OR to pack\n",
      "breathing: to breathe or to breath\n"
     ]
    }
   ],
   "source": [
    "# with exceptions \n",
    "def gerund_infinitive2(verb: str) -> str:\n",
    "    \n",
    "    vovels = [\"u\", \"e\", \"i\", \"o\", \"a\"]\n",
    "    \n",
    "    if ' ' in verb:\n",
    "        raise ValueError(\"Given string contains space.\")\n",
    "    elif verb[-3:] != \"ing\":\n",
    "        raise ValueError(\"Not a gerund!\")\n",
    "    else:\n",
    "        if verb[-4] == 'y' and len(verb) == 5:\n",
    "            return 'to ' + verb[:-4] + 'ie'\n",
    "        elif verb[-5] == verb[-4]:\n",
    "            return 'to ' + verb[:-4]       \n",
    "        elif verb[-5:-3] == \"ck\":\n",
    "            return 'to ' + verb[:-4] + ' OR to ' + verb[:-3]\n",
    "        elif verb[-5:-3] == 'th' or (verb[-5] in vovels and verb[-4] not in vovels):\n",
    "            return 'to ' + verb[:-3] + 'e or to ' + verb[:-3]\n",
    "        else:\n",
    "            return 'to ' + verb[:-3]\n",
    "        \n",
    "verbs = [\"doing\", \"trying\", \"getting\", \"packing\", \"breathing\"]\n",
    "\n",
    "for verb in verbs:\n",
    "    print(verb + \": \" + gerund_infinitive2(verb))"
   ]
  },
  {
   "cell_type": "markdown",
   "id": "material-daniel",
   "metadata": {},
   "source": [
    "**Day 5:** REST (Saturday)"
   ]
  },
  {
   "cell_type": "markdown",
   "id": "superb-greensboro",
   "metadata": {},
   "source": [
    "**Day 6:** REST (Sunday)"
   ]
  },
  {
   "cell_type": "markdown",
   "id": "catholic-trance",
   "metadata": {},
   "source": [
    "**Day 7:** Write a function named **capital_indexes.** The function takes a single parameter, which is a string. Your function should return a list of all the indexes in the string that have capital letters."
   ]
  },
  {
   "cell_type": "code",
   "execution_count": 16,
   "id": "boxed-marketing",
   "metadata": {},
   "outputs": [],
   "source": [
    "# Solution 1 - NAIVE\n",
    "def capital_indexes(string):\n",
    "    upper = \"ABCDEFGHIJKLMNOPQRSTUVWXYZ\"\n",
    "    result = []\n",
    "    for i, l in enumerate(string):\n",
    "        if l in upper:\n",
    "            result.append(i)\n",
    "    return result"
   ]
  },
  {
   "cell_type": "code",
   "execution_count": 52,
   "id": "express-lexington",
   "metadata": {},
   "outputs": [],
   "source": [
    "from string import ascii_uppercase\n",
    "\n",
    "def capital_indexes2(string):\n",
    "    return[index for index, char in enumerate(string) if char in ascii_uppercase]"
   ]
  },
  {
   "cell_type": "markdown",
   "id": "brown-family",
   "metadata": {},
   "source": [
    "**Day 8**: Create a **womensday** function which will ask user for his/her name. As the majority of Polish female names are ended with \"a\", if it's the last letter of user's name, function should return the Women's Day wishes. Otherwise, the function should proceed with another output (up to your creativity :) ). "
   ]
  },
  {
   "cell_type": "code",
   "execution_count": 62,
   "id": "integrated-nicholas",
   "metadata": {},
   "outputs": [],
   "source": [
    "# This solution follows Polish convention of female names (they end with \"a\"). You can play with more exceptions!\n",
    "def womensday() -> str:\n",
    "    wish = \"Happy Women's day to {}!\"\n",
    "    name = input(\"Type your name: \")\n",
    "    if name[-1] == \"a\":\n",
    "        return wish.format(name)\n",
    "    else:\n",
    "        name_other = input(\"Enter name of your girlfriend: \")\n",
    "        if name_other[-1] == \"a\":\n",
    "            return \"Go and wish \" + wish.format(name_other) \n",
    "        else:\n",
    "            return \"Not possible! Something's wrong!\""
   ]
  },
  {
   "cell_type": "markdown",
   "id": "abstract-entity",
   "metadata": {},
   "source": [
    "**Day 9:** Create a function named **mid** that takes a string as its parameter. Your function should extract and return the middle letter. If there is no middle letter, your function should return an empty string. For example mid(\"abc\") should return \"b\" and mid (\"aaaa\") should return \"\"."
   ]
  },
  {
   "cell_type": "code",
   "execution_count": 19,
   "id": "sustained-defendant",
   "metadata": {},
   "outputs": [],
   "source": [
    "def mid(x):\n",
    "    if len(x) % 2 == 0:\n",
    "        return \"\"\n",
    "    else:\n",
    "        return x[int(len(x)/2)]"
   ]
  },
  {
   "cell_type": "markdown",
   "id": "collectible-raleigh",
   "metadata": {},
   "source": [
    "**Day 10:** Create your own creative funny male names (name + surname) generator."
   ]
  },
  {
   "cell_type": "code",
   "execution_count": 20,
   "id": "relevant-seventh",
   "metadata": {},
   "outputs": [],
   "source": [
    "import pandas as pd\n",
    "from random import randint\n",
    "\n",
    "names # load file with names\n",
    "surnames # load file with surnames\n",
    "\n",
    "for i in range(10):\n",
    "    name1 = names.iloc[randint(0, 99)][0]\n",
    "    name2 = names.iloc[randint(0, 99)][0]\n",
    "    n = randint(1, min(len(name1), len(name2)))\n",
    "    \n",
    "    surname1 = surnames.iloc[randint(0, 99)][0]\n",
    "    surname2 = surnames.iloc[randint(0, 99)][0]\n",
    "    s = randint(1, min(len(surname1), len(surname2)))  \n",
    "    \n",
    "    print(name1[0:n] + name2[n:] + \" \" + surname1[0:s] + surname2[s:])"
   ]
  },
  {
   "cell_type": "markdown",
   "id": "floppy-nudist",
   "metadata": {},
   "source": [
    "**Day 11:** Two strings are anagrams if you can make one from another by just rearranging the letters. Write a function named **is_anagram** that takes two strings as its parameters. Your function should return True if the strings are anagrams and False otherwise."
   ]
  },
  {
   "cell_type": "code",
   "execution_count": 21,
   "id": "combined-satin",
   "metadata": {},
   "outputs": [],
   "source": [
    "# Solution 1 - easy\n",
    "def is_anagram(string1, string2):\n",
    "    return sorted(string1) == sorted(string2)\n",
    "\n",
    "# Solution 2 - complex\n",
    "# Count how many times each letter appears in each string and make sure all the counts are the same.\n",
    "def count_letters(string):\n",
    "    return {l: string.count(l) for l in string}\n",
    "\n",
    "def is_anagram2(string1, string2):\n",
    "    return count_letters(string1) == count_letters(string2)"
   ]
  },
  {
   "cell_type": "markdown",
   "id": "manufactured-helping",
   "metadata": {},
   "source": [
    "**Day 12:** REST (Saturday)"
   ]
  },
  {
   "cell_type": "markdown",
   "id": "competitive-treasurer",
   "metadata": {},
   "source": [
    "**Day 13:** REST (Sunday)"
   ]
  },
  {
   "cell_type": "markdown",
   "id": "seeing-minnesota",
   "metadata": {},
   "source": [
    "**Day 14:** Define a function named **largest_difference** that takes a list of numbers as its only parameter. Your function should compute and return the difference between the largest and smallest number in the list."
   ]
  },
  {
   "cell_type": "code",
   "execution_count": 72,
   "id": "extensive-bunny",
   "metadata": {},
   "outputs": [],
   "source": [
    "numbers = [1,3,4,200]"
   ]
  },
  {
   "cell_type": "code",
   "execution_count": 64,
   "id": "hybrid-stroke",
   "metadata": {},
   "outputs": [],
   "source": [
    "# Easy solution\n",
    "def largest_difference(numbers):\n",
    " sm_number = numbers\n",
    " la_number = numbers\n",
    " smaller = min(sm_number)\n",
    " largest = max(la_number)\n",
    " return largest - smaller"
   ]
  },
  {
   "cell_type": "code",
   "execution_count": 65,
   "id": "metropolitan-relaxation",
   "metadata": {},
   "outputs": [],
   "source": [
    "# Short solution\n",
    "def largest_difference2(numbers):\n",
    "  return max(numbers) - min(numbers)"
   ]
  },
  {
   "cell_type": "code",
   "execution_count": 66,
   "id": "solid-complaint",
   "metadata": {},
   "outputs": [],
   "source": [
    "# Another solution\n",
    "def largest_difference3(numbers):\n",
    " smallest = 100\n",
    " for n in numbers:\n",
    "  if n < smallest:\n",
    "   smallest = n\n",
    "\n",
    " largest = -100\n",
    " for n in numbers:\n",
    "  if n > largest:\n",
    "    largest = n\n",
    "\n",
    " difference = largest - smallest\n",
    " return difference"
   ]
  },
  {
   "cell_type": "markdown",
   "id": "diagnostic-charles",
   "metadata": {},
   "source": [
    "**Day 15:** Write a function named **add_dots** that takes a string and adds \".\" in between each letter."
   ]
  },
  {
   "cell_type": "code",
   "execution_count": 25,
   "id": "lyric-austria",
   "metadata": {},
   "outputs": [],
   "source": [
    "def add_dots(string):\n",
    "    new_string = \".\".join(string)\n",
    "    return new_string\n",
    "\n",
    "\n",
    "def remove_dots(string):\n",
    "    new_string = string\n",
    "    result = new_string.replace(\".\", \"\")\n",
    "    return result"
   ]
  },
  {
   "cell_type": "code",
   "execution_count": 26,
   "id": "impossible-eight",
   "metadata": {},
   "outputs": [],
   "source": [
    "def add_dots(s):\n",
    "    out = \"\"\n",
    "    for letter in s:\n",
    "        out += letter + \".\"\n",
    "    return out[:-1] # -> do not show the lest dot \n",
    "\n",
    "def remove_dots(s):\n",
    "    out = \"\"\n",
    "    for letter in s:\n",
    "        if letter != \".\":\n",
    "            out += letter\n",
    "    return out"
   ]
  },
  {
   "cell_type": "code",
   "execution_count": 27,
   "id": "tamil-bathroom",
   "metadata": {},
   "outputs": [],
   "source": [
    "def add_dots(s):\n",
    "    return \".\".join(s)\n",
    "\n",
    "def remove_dots(s):\n",
    "    return s.replace(\".\", \"\")"
   ]
  },
  {
   "cell_type": "markdown",
   "id": "hazardous-crossing",
   "metadata": {},
   "source": [
    "**Day 16:** Write a function named **is_palindrome** that takes a single string as its parameter. Your function should return True if the string is a palindrome, and False otherwise."
   ]
  },
  {
   "cell_type": "code",
   "execution_count": 74,
   "id": "manufactured-royal",
   "metadata": {},
   "outputs": [],
   "source": [
    "def is_palindrome(word):\n",
    "    return str(word).lower() == str(word).lower()[::-1]"
   ]
  },
  {
   "cell_type": "markdown",
   "id": "present-syndrome",
   "metadata": {},
   "source": [
    "**Day 17:** Define a **calculate_factorial** function that will return the factorial for the given number."
   ]
  },
  {
   "cell_type": "code",
   "execution_count": 75,
   "id": "corresponding-sheet",
   "metadata": {},
   "outputs": [],
   "source": [
    "import numpy as np\n",
    "\n",
    "def calculate_factorial():\n",
    "    while True:\n",
    "        try: \n",
    "            number = int(input(\"Enter non-negative integer: \"))\n",
    "            break\n",
    "        except ValueError:\n",
    "            print(\"That was no valid number, try again: \")\n",
    "            \n",
    "    if number<0:\n",
    "        return \"This function doesn't work with negative numbers.\"\n",
    "    if number == 0:\n",
    "        return 1\n",
    "    else:\n",
    "        return np.prod([num for num in range(1, number + 1)])"
   ]
  },
  {
   "cell_type": "markdown",
   "id": "rotary-hotel",
   "metadata": {},
   "source": [
    "**Day 18:** Define a function named **all_equal** that takes a list and checks whether all elements in the list are the same. "
   ]
  },
  {
   "cell_type": "code",
   "execution_count": 77,
   "id": "trained-proposal",
   "metadata": {},
   "outputs": [],
   "source": [
    "# one-liner\n",
    "def all_equal(list_of_nums):\n",
    "    return len(set(list_of_nums)) == 1"
   ]
  },
  {
   "cell_type": "code",
   "execution_count": 81,
   "id": "structural-package",
   "metadata": {},
   "outputs": [],
   "source": [
    "def all_equal2(list_of_nums):\n",
    "    if len(list_of_nums) < 1:\n",
    "        return False\n",
    "    for index in range(len(list_of_nums) - 1):\n",
    "        if list_of_nums[index] != list_of_nums[index + 1]:\n",
    "            return False\n",
    "        return True"
   ]
  },
  {
   "cell_type": "markdown",
   "id": "inner-forward",
   "metadata": {},
   "source": [
    "**Day 19:** REST (Saturday)"
   ]
  },
  {
   "cell_type": "markdown",
   "id": "pending-pearl",
   "metadata": {},
   "source": [
    "**Day 20:** REST (Sunday)"
   ]
  },
  {
   "cell_type": "markdown",
   "id": "fitting-challenge",
   "metadata": {},
   "source": [
    "**Day 21:** Write a function **move_zero** to push all zeros to the end of a list."
   ]
  },
  {
   "cell_type": "code",
   "execution_count": 84,
   "id": "civil-spanish",
   "metadata": {},
   "outputs": [],
   "source": [
    "def move_zero(num_list):\n",
    "    return [x for x in num_list if x != 0] + [x for x in num_list if x == 0]"
   ]
  },
  {
   "cell_type": "markdown",
   "id": "norwegian-individual",
   "metadata": {},
   "source": [
    "**Day 22:** Write a **perfectly_balanced** function which, having a string containing only the characters x and y, check that the number of characters x and y are the same."
   ]
  },
  {
   "cell_type": "code",
   "execution_count": 87,
   "id": "prepared-planner",
   "metadata": {},
   "outputs": [],
   "source": [
    "def perfectly_balanced(string):\n",
    "    x, y = set((' '.join(string).split()))\n",
    "    return string.count(x) == string.count(y) "
   ]
  },
  {
   "cell_type": "markdown",
   "id": "grave-festival",
   "metadata": {},
   "source": [
    "**Day 23:** Write a function **is_ugly** to check whether a given number is an ugly number."
   ]
  },
  {
   "cell_type": "code",
   "execution_count": null,
   "id": "crazy-palestine",
   "metadata": {},
   "outputs": [],
   "source": [
    "def is_ugly(num):\n",
    "        if num == 0:\n",
    "            return False\n",
    "        for i in [2, 3, 5]:\n",
    "            while num % i == 0:\n",
    "                num /= i\n",
    "        return num == 1"
   ]
  },
  {
   "cell_type": "markdown",
   "id": "unnecessary-bibliography",
   "metadata": {},
   "source": [
    "**Day 24:** Write a function **is_geometric** to check if a sequence of numbers is a geometric progression or not."
   ]
  },
  {
   "cell_type": "code",
   "execution_count": 34,
   "id": "blessed-shoulder",
   "metadata": {},
   "outputs": [],
   "source": [
    "def is_geometric(li):\n",
    "    if len(li) <= 1:\n",
    "        return True\n",
    "    # Calculate ratio\n",
    "    ratio = li[1]/float(li[0])\n",
    "    # Check the ratio of the remaining\n",
    "    for i in range(1, len(li)):\n",
    "        if li[i]/float(li[i-1]) != ratio: \n",
    "            return False\n",
    "    return True "
   ]
  },
  {
   "cell_type": "code",
   "execution_count": 91,
   "id": "stupid-shell",
   "metadata": {},
   "outputs": [],
   "source": [
    "def is_geometric2(nums):\n",
    "    if len(nums) > 1:\n",
    "        q = nums[1] / nums[0]\n",
    "        for index in range(1, len(nums) - 1):\n",
    "            if nums[index + 1] / nums[index] != q:\n",
    "                return False\n",
    "            return True\n",
    "        return False"
   ]
  },
  {
   "cell_type": "markdown",
   "id": "agricultural-cooperative",
   "metadata": {},
   "source": [
    "**Day 25:** Write a function to display the **Fibonacci** sequence up to n-th term."
   ]
  },
  {
   "cell_type": "code",
   "execution_count": 97,
   "id": "right-there",
   "metadata": {},
   "outputs": [],
   "source": [
    "def fib():\n",
    "    n = int(input(\"Enter positive integer: \"))\n",
    "    t = [0,1]\n",
    "    if n > 1:\n",
    "        for i in range(2, n+1):\n",
    "            t.append(t[i-1] + t[i-2])\n",
    "    print(t)"
   ]
  },
  {
   "cell_type": "markdown",
   "id": "described-encoding",
   "metadata": {},
   "source": [
    "**Day 26:** REST (Saturday)"
   ]
  },
  {
   "cell_type": "markdown",
   "id": "surface-commerce",
   "metadata": {},
   "source": [
    "**Day 27:** REST (Sunday)"
   ]
  },
  {
   "cell_type": "markdown",
   "id": "excess-outreach",
   "metadata": {},
   "source": [
    "**Day 28:** Write a function **digit_adder** which will take a number from the user, transform each of its digits to one digit larger, and eventually return a new number. For example, 998 becomes 10109."
   ]
  },
  {
   "cell_type": "code",
   "execution_count": 35,
   "id": "crazy-immigration",
   "metadata": {},
   "outputs": [],
   "source": [
    "def digit_adder(x):\n",
    "\tresult = 0\n",
    "\tfactor = 1\n",
    "\n",
    "\twhile x:\n",
    "\t\tresult += ((x % 10) + 1) * factor\n",
    "\t\tfactor *= 10 if (x % 10) + 1 != 10 else 100\n",
    "\t\tx //= 10\n",
    "\n",
    "\treturn result"
   ]
  },
  {
   "cell_type": "markdown",
   "id": "cognitive-spokesman",
   "metadata": {},
   "source": [
    "**Day 29:** Write an **additive_persistence** function that returns the number of loops it needs to do to sum the digits of a user-specified number to a single digit number. Examples: 13 -> 1, 1234 -> 2, 199 -> 3."
   ]
  },
  {
   "cell_type": "code",
   "execution_count": 38,
   "id": "sunset-glenn",
   "metadata": {},
   "outputs": [
    {
     "name": "stdout",
     "output_type": "stream",
     "text": [
      "13 1\n",
      "1234 2\n",
      "9876 2\n",
      "199 3\n"
     ]
    }
   ],
   "source": [
    "def additive_persistence(n):\n",
    "    add_per = 0\n",
    "    while n > 9:\n",
    "        n = sum_digits(n)\n",
    "        add_per += 1\n",
    "    return add_per\n",
    "\n",
    "def sum_digits(n):\n",
    "    total = 0\n",
    "    while n:\n",
    "        total += n % 10\n",
    "        n //= 10\n",
    "    return total\n",
    "\n",
    "if __name__ == '__main__':\n",
    "    for example in (13, 1234, 9876, 199):\n",
    "        print(example, additive_persistence(example))"
   ]
  },
  {
   "cell_type": "code",
   "execution_count": 104,
   "id": "reverse-baltimore",
   "metadata": {},
   "outputs": [],
   "source": [
    "def additive_persistence2 (n: int) -> int:\n",
    "    ans = 0\n",
    "    while len(str(n)) > 1:\n",
    "        n = sum([int(i) for i in list(str(n))])\n",
    "        ans += 1\n",
    "    return ans"
   ]
  },
  {
   "cell_type": "markdown",
   "id": "prerequisite-sleeve",
   "metadata": {},
   "source": [
    "**Day 30:** Given two Roman numerals, return whether the first one is less than the second one."
   ]
  },
  {
   "cell_type": "code",
   "execution_count": 39,
   "id": "celtic-surgery",
   "metadata": {},
   "outputs": [],
   "source": [
    "def get_value(numeral_string):\n",
    "    value = 0\n",
    "    KEY = {'I' : 1,'V' : 5,'X' : 10,'L' : 50,'C' : 100,'D' : 500,\n",
    "    'M' : 1000}\n",
    "    for item in numeral_string:\n",
    "           value += KEY[item]\n",
    "    return value\n",
    "\n",
    "\n",
    "def numcompare(string1, string2):\n",
    "    value1 = get_value(string1)\n",
    "    value2 = get_value(string2)\n",
    "    \n",
    "    if value2 > value1:\n",
    "        return True\n",
    "    else:\n",
    "        return False"
   ]
  },
  {
   "cell_type": "markdown",
   "id": "typical-mentor",
   "metadata": {},
   "source": [
    "**Day 31:** Write the function **count_ones** which, after receiving the number n from the user, will determine how many times \"1\" will appear if you print all the numbers from 1 to n inclusive."
   ]
  },
  {
   "cell_type": "code",
   "execution_count": 106,
   "id": "framed-shame",
   "metadata": {},
   "outputs": [],
   "source": [
    "def count_ones(n):\n",
    "    return sum([str(digit).count('1') for digit in range(n+1)])"
   ]
  }
 ],
 "metadata": {
  "kernelspec": {
   "display_name": "Python 3",
   "language": "python",
   "name": "python3"
  },
  "language_info": {
   "codemirror_mode": {
    "name": "ipython",
    "version": 3
   },
   "file_extension": ".py",
   "mimetype": "text/x-python",
   "name": "python",
   "nbconvert_exporter": "python",
   "pygments_lexer": "ipython3",
   "version": "3.7.6"
  }
 },
 "nbformat": 4,
 "nbformat_minor": 5
}
